{
 "cells": [
  {
   "cell_type": "code",
   "execution_count": 1,
   "id": "5d51c984",
   "metadata": {},
   "outputs": [],
   "source": [
    "import os\n",
    "import uproot\n",
    "import numpy as np\n",
    "import matplotlib.pyplot as plt\n"
   ]
  },
  {
   "cell_type": "markdown",
   "id": "95a762b6",
   "metadata": {},
   "source": [
    "# Mimega"
   ]
  },
  {
   "cell_type": "code",
   "execution_count": 2,
   "id": "4427f3c6",
   "metadata": {},
   "outputs": [],
   "source": [
    "\n",
    "# === PARAMETRI ===\n",
    "root_folder = \"data/mimega\"\n",
    "num_strips = 360\n"
   ]
  },
  {
   "cell_type": "code",
   "execution_count": 3,
   "id": "cef5f345",
   "metadata": {},
   "outputs": [],
   "source": [
    "\n",
    "# === PERCORSI DI SALVATAGGIO ===\n",
    "signal_x_path = os.path.join(root_folder, \"signal_x.npy\")\n",
    "signal_y_path = os.path.join(root_folder, \"signal_y.npy\")\n",
    "noise_x_path = os.path.join(root_folder, \"noise_x.npy\")\n",
    "noise_y_path = os.path.join(root_folder, \"noise_y.npy\")\n"
   ]
  },
  {
   "cell_type": "code",
   "execution_count": 4,
   "id": "da635007",
   "metadata": {},
   "outputs": [],
   "source": [
    "\n",
    "# === FUNZIONE DI ESTRAZIONE X/Y ===\n",
    "def estrai_eventi_xy(filepath):\n",
    "    with uproot.open(filepath) as file:\n",
    "        tree = file[\"TBtree;1\"]\n",
    "        df = tree.arrays(library=\"pd\")\n",
    "\n",
    "    hit_index = df[\"hit_index\"].to_list()\n",
    "    hit_q = df[\"hit_q\"].to_list()\n",
    "    hit_issecondcoord = df[\"hit_issecondcoord\"].to_list()\n",
    "\n",
    "    xy_x, xy_y = [], []\n",
    "\n",
    "    for indexes, charges, coords in zip(hit_index, hit_q, hit_issecondcoord):\n",
    "        for idxs, qs, isys in zip(indexes, charges, coords):\n",
    "            event_x = np.zeros(num_strips)\n",
    "            event_y = np.zeros(num_strips)\n",
    "            for idx, q, isy in zip(idxs, qs, isys):\n",
    "                if isy == 0:\n",
    "                    event_x[idx] = q\n",
    "                else:\n",
    "                    event_y[idx] = q\n",
    "            xy_x.append(event_x)\n",
    "            xy_y.append(event_y)\n",
    "\n",
    "    return np.array(xy_x, dtype=np.float32), np.array(xy_y, dtype=np.float32)\n"
   ]
  },
  {
   "cell_type": "code",
   "execution_count": 5,
   "id": "85e234f9",
   "metadata": {},
   "outputs": [
    {
     "name": "stdout",
     "output_type": "stream",
     "text": [
      "[✔] Eventi di segnale salvati: 6761 esempi\n"
     ]
    }
   ],
   "source": [
    "\n",
    "# === ESTRAZIONE E SALVATAGGIO EVENTI DI SEGNALE ===\n",
    "signal_file = os.path.join(root_folder, \"external.root\")\n",
    "signal_x, signal_y = estrai_eventi_xy(signal_file)\n",
    "np.save(signal_x_path, signal_x)\n",
    "np.save(signal_y_path, signal_y)\n",
    "print(f\"[✔] Eventi di segnale salvati: {len(signal_x)} esempi\")\n"
   ]
  },
  {
   "cell_type": "code",
   "execution_count": 6,
   "id": "de610332",
   "metadata": {},
   "outputs": [
    {
     "name": "stdout",
     "output_type": "stream",
     "text": [
      "[✔] Eventi di rumore salvati: 8219 esempi\n"
     ]
    }
   ],
   "source": [
    "\n",
    "# === ESTRAZIONE E SALVATAGGIO EVENTI DI RUMORE ===\n",
    "noise_file = os.path.join(root_folder, \"internal.root\")\n",
    "noise_x, noise_y = estrai_eventi_xy(noise_file)\n",
    "np.save(noise_x_path, noise_x)\n",
    "np.save(noise_y_path, noise_y)\n",
    "print(f\"[✔] Eventi di rumore salvati: {len(noise_x)} esempi\")\n"
   ]
  },
  {
   "cell_type": "code",
   "execution_count": 7,
   "id": "05e55444",
   "metadata": {},
   "outputs": [],
   "source": [
    "\n",
    "# === PLOT DI UN ESEMPIO DI SEGNALE ===\n",
    "def plot_event(x_array, y_array, idx=0):\n",
    "    plt.figure(figsize=(12, 4))\n",
    "\n",
    "    plt.subplot(1, 2, 1)\n",
    "    plt.bar(range(num_strips), x_array[idx], color=\"blue\", alpha=0.6)\n",
    "    plt.xlabel(\"Strip\")\n",
    "    plt.ylabel(\"Carica\")\n",
    "    plt.title(\"Segnale - X coord\")\n",
    "\n",
    "    plt.subplot(1, 2, 2)\n",
    "    plt.bar(range(num_strips), y_array[idx], color=\"red\", alpha=0.6)\n",
    "    plt.xlabel(\"Strip\")\n",
    "    plt.ylabel(\"Carica\")\n",
    "    plt.title(\"Segnale - Y coord\")\n",
    "\n",
    "    plt.tight_layout()\n",
    "    plt.show()\n"
   ]
  },
  {
   "cell_type": "code",
   "execution_count": 8,
   "id": "5c622db9",
   "metadata": {},
   "outputs": [
    {
     "data": {
      "image/png": "[encoded data removed]",
      "text/plain": [
       "<Figure size 1200x400 with 2 Axes>"
      ]
     },
     "metadata": {},
     "output_type": "display_data"
    }
   ],
   "source": [
    "\n",
    "# === MOSTRA UN ESEMPIO ===\n",
    "plot_event(signal_x, signal_y, idx=4)\n"
   ]
  },
  {
   "cell_type": "markdown",
   "id": "3b6153dc",
   "metadata": {},
   "source": [
    "# Atlas\n",
    "\n",
    "data (8.6 Gb): \n",
    "https://cernbox.cern.ch/rootjs/public/mFmKHpc4psg1H6b/data24_13p6TeV.00484074.physics_Main.merge.NTUP_MUTEST.f1512_m2250_c1404_m2220._0037.1.root?contextRouteName=files-public-link&contextRouteParams.driveAliasAndItem=public%2FmFmKHpc4psg1H6b&items-per-page=100"
   ]
  },
  {
   "cell_type": "code",
   "execution_count": 9,
   "id": "86ec18cc",
   "metadata": {},
   "outputs": [],
   "source": [
    "# --- Impostazioni ---\n",
    "input_file = \"data/atlas/data24_13p6TeV.root\"\n",
    "signal_path = \"data/atlas/signal_clusters.npy\"\n",
    "noise_path = \"data/atlas/noise_clusters.npy\"\n",
    "N_EVENTS = 10000  # Numero di eventi da salvare\n"
   ]
  },
  {
   "cell_type": "code",
   "execution_count": 10,
   "id": "48eb129e",
   "metadata": {},
   "outputs": [],
   "source": [
    "\n",
    "# --- Estrazione dati da ROOT ---\n",
    "file = uproot.open(input_file)\n",
    "tree = file[\"BasicTesterTree;1\"]\n"
   ]
  },
  {
   "cell_type": "code",
   "execution_count": 11,
   "id": "2798098f",
   "metadata": {},
   "outputs": [],
   "source": [
    "\n",
    "# Lettura batch di variabili\n",
    "mmOnTrack_stripCharges = tree[\"mmOnTrackStripCharges\"].array(library=\"np\")\n",
    "mmOnTrack_localPosX = tree[\"mmOnTrackLocalPos_x\"].array(library=\"np\")\n",
    "mmOnTrack_stripTimes = tree[\"mmOnTrackStripDriftTimes\"].array(library=\"np\")\n",
    "mmOnTrack_stationIndex = tree[\"mmOnTrack_stationIndex\"].array(library=\"np\")\n",
    "mmOnTrack_stationEta = tree[\"mmOnTrack_stationEta\"].array(library=\"np\")\n",
    "mmOnTrack_MuonLink = tree[\"mmOnTrack_MuonLink\"].array(library=\"np\")\n",
    "muons_pt = tree[\"muons_pt\"].array(library=\"np\")\n",
    "muons_author = tree[\"muons_author\"].array(library=\"np\")\n",
    "\n",
    "mmPRDRandomSectorDumped = tree[\"mmPRDRandomSectorDumped\"].array(library=\"np\")\n",
    "PRD_MM_stationPhi = tree[\"PRD_MM_stationPhi\"].array(library=\"np\")\n",
    "PRD_MM_stripCharges = tree[\"PRD_MM_stripCharges\"].array(library=\"np\")\n",
    "PRD_MM_localPosX = tree[\"PRD_MM_localPosX\"].array(library=\"np\")\n",
    "PRD_MM_stripTimes = tree[\"PRD_MM_stripTimes\"].array(library=\"np\")\n",
    "PRD_MM_stationIndex = tree[\"PRD_MM_stationIndex\"].array(library=\"np\")\n",
    "PRD_MM_stationEta = tree[\"PRD_MM_stationEta\"].array(library=\"np\")\n",
    "\n",
    "mmOnTrack_globalPosX = tree[\"mmOnTrackGlobalPos_x\"].array(library=\"np\")\n",
    "mmOnTrack_globalPosY = tree[\"mmOnTrackGlobalPos_y\"].array(library=\"np\")\n",
    "mmOnTrack_globalPosZ = tree[\"mmOnTrackGlobalPos_z\"].array(library=\"np\")\n",
    "\n",
    "PRD_MM_globalPosX = tree[\"PRD_MM_globalPosX\"].array(library=\"np\")\n",
    "PRD_MM_globalPosY = tree[\"PRD_MM_globalPosY\"].array(library=\"np\")\n",
    "PRD_MM_globalPosZ = tree[\"PRD_MM_globalPosZ\"].array(library=\"np\")\n"
   ]
  },
  {
   "cell_type": "code",
   "execution_count": 12,
   "id": "4699d4a9",
   "metadata": {},
   "outputs": [
    {
     "name": "stdout",
     "output_type": "stream",
     "text": [
      "Eventi di segnale salvati: 10000\n"
     ]
    }
   ],
   "source": [
    "\n",
    "# --- Estrazione eventi di segnale ---\n",
    "signal_clusters = []\n",
    "\n",
    "for i in range(len(mmOnTrack_stripCharges)):\n",
    "    charges = mmOnTrack_stripCharges[i]\n",
    "    xs = mmOnTrack_localPosX[i]\n",
    "    times = mmOnTrack_stripTimes[i]\n",
    "    muon_link = mmOnTrack_MuonLink[i] if len(mmOnTrack_MuonLink[i]) > 0 else None\n",
    "    pt = muons_pt[i] if len(muons_pt[i]) > 0 else None\n",
    "    author = muons_author[i] if len(muons_author[i]) > 0 else None\n",
    "    n_strips = [len(cluster) for cluster in charges]\n",
    "    station_index = mmOnTrack_stationIndex[i] if len(mmOnTrack_stationIndex[i]) > 0 else None\n",
    "    station_eta = mmOnTrack_stationEta[i] if len(mmOnTrack_stationEta[i]) > 0 else None\n",
    "    global_x = mmOnTrack_globalPosX[i]\n",
    "    global_y = mmOnTrack_globalPosY[i]\n",
    "    global_z = mmOnTrack_globalPosZ[i]\n",
    "\n",
    "    selected = []\n",
    "    if (\n",
    "        pt is not None and author is not None and\n",
    "        station_index is not None and station_eta is not None\n",
    "    ):\n",
    "        for j in range(len(charges)):\n",
    "            if (\n",
    "                station_index[j] == 55 and\n",
    "                abs(station_eta[j]) == 1 and\n",
    "                pt[muon_link[j]] >= 15 and\n",
    "                author[muon_link[j]] == 1\n",
    "            ):\n",
    "                selected.append(j)\n",
    "\n",
    "        if len(selected) >= 4:\n",
    "            signal_clusters.append({\n",
    "                \"charge\": [charges[j] for j in selected],\n",
    "                \"localPosX\": [xs[j] for j in selected],\n",
    "                \"stripTimes\": [times[j] for j in selected],\n",
    "                \"n_strips\": [n_strips[j] for j in selected],\n",
    "                \"globalPosX\": [global_x[j] for j in selected],\n",
    "                \"globalPosY\": [global_y[j] for j in selected],\n",
    "                \"globalPosZ\": [global_z[j] for j in selected]\n",
    "            })\n",
    "\n",
    "            if len(signal_clusters) >= N_EVENTS:\n",
    "                break\n",
    "\n",
    "print(f\"Eventi di segnale salvati: {len(signal_clusters)}\")\n"
   ]
  },
  {
   "cell_type": "code",
   "execution_count": 13,
   "id": "ec5d7a49",
   "metadata": {},
   "outputs": [
    {
     "name": "stdout",
     "output_type": "stream",
     "text": [
      "Eventi di rumore salvati: 10000\n"
     ]
    }
   ],
   "source": [
    "\n",
    "# --- Estrazione eventi di rumore ---\n",
    "noise_clusters = []\n",
    "\n",
    "for i in range(len(PRD_MM_stripCharges)):\n",
    "    charges = PRD_MM_stripCharges[i]\n",
    "    xs = PRD_MM_localPosX[i]\n",
    "    times = PRD_MM_stripTimes[i]\n",
    "    n_strips = [len(cluster) for cluster in charges]\n",
    "    random_sector = mmPRDRandomSectorDumped[i] if len(mmPRDRandomSectorDumped[i]) > 0 else None\n",
    "    station_phi = PRD_MM_stationPhi[i] if len(PRD_MM_stationPhi[i]) > 0 else None\n",
    "    station_index = PRD_MM_stationIndex[i] if len(PRD_MM_stationIndex[i]) > 0 else None\n",
    "    station_eta = PRD_MM_stationEta[i] if len(PRD_MM_stationEta[i]) > 0 else None\n",
    "    global_x = PRD_MM_globalPosX[i]\n",
    "    global_y = PRD_MM_globalPosY[i]\n",
    "    global_z = PRD_MM_globalPosZ[i]\n",
    "\n",
    "    selected = []\n",
    "    if (\n",
    "        station_index is not None and station_eta is not None and \n",
    "        random_sector is not None and random_sector % 2 == 0\n",
    "    ):\n",
    "        phi = (abs(random_sector) + 1) // 2\n",
    "        eta_sign = 1 if random_sector > 0 else -1\n",
    "        for j in range(len(charges)):\n",
    "            if (\n",
    "                station_phi[j] == phi and\n",
    "                station_index[j] == 55 and\n",
    "                station_eta[j] == eta_sign\n",
    "            ):\n",
    "                selected.append(j)\n",
    "\n",
    "        if len(selected) > 1:\n",
    "            noise_clusters.append({\n",
    "                \"charge\": [charges[j] for j in selected],\n",
    "                \"localPosX\": [xs[j] for j in selected],\n",
    "                \"stripTimes\": [times[j] for j in selected],\n",
    "                \"n_strips\": [n_strips[j] for j in selected],\n",
    "                \"globalPosX\": [global_x[j] for j in selected],\n",
    "                \"globalPosY\": [global_y[j] for j in selected],\n",
    "                \"globalPosZ\": [global_z[j] for j in selected]\n",
    "            })\n",
    "\n",
    "            if len(noise_clusters) >= N_EVENTS:\n",
    "                break\n",
    "\n",
    "print(f\"Eventi di rumore salvati: {len(noise_clusters)}\")\n"
   ]
  },
  {
   "cell_type": "code",
   "execution_count": 14,
   "id": "278b1620",
   "metadata": {},
   "outputs": [
    {
     "name": "stdout",
     "output_type": "stream",
     "text": [
      "Dati estratti e salvati in file numpy.\n"
     ]
    }
   ],
   "source": [
    "\n",
    "# --- Salvataggio dati ---\n",
    "file.close()\n",
    "np.save(signal_path, np.array(signal_clusters, dtype=object))\n",
    "np.save(noise_path, np.array(noise_clusters, dtype=object))\n",
    "print(\"Dati estratti e salvati in file numpy.\")\n"
   ]
  },
  {
   "cell_type": "code",
   "execution_count": null,
   "id": "521eeca7",
   "metadata": {},
   "outputs": [],
   "source": []
  }
 ],
 "metadata": {
  "kernelspec": {
   "display_name": "Python (flows)",
   "language": "python",
   "name": "flows"
  },
  "language_info": {
   "codemirror_mode": {
    "name": "ipython",
    "version": 3
   },
   "file_extension": ".py",
   "mimetype": "text/x-python",
   "name": "python",
   "nbconvert_exporter": "python",
   "pygments_lexer": "ipython3",
   "version": "3.11.6"
  }
 },
 "nbformat": 4,
 "nbformat_minor": 5
}
