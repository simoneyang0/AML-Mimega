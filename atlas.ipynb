{
 "cells": [
  {
   "cell_type": "code",
   "execution_count": 1,
   "id": "f3b9435a",
   "metadata": {},
   "outputs": [
    {
     "name": "stderr",
     "output_type": "stream",
     "text": [
      "/leonardo/prod/opt/libraries/cineca-ai/4.3.0/none/cineca-ai-env/lib/python3.11/site-packages/tqdm/auto.py:21: TqdmWarning: IProgress not found. Please update jupyter and ipywidgets. See https://ipywidgets.readthedocs.io/en/stable/user_install.html\n",
      "  from .autonotebook import tqdm as notebook_tqdm\n",
      "/leonardo/prod/opt/libraries/cineca-ai/4.3.0/none/cineca-ai-env/lib/python3.11/site-packages/transformers/utils/generic.py:462: UserWarning: torch.utils._pytree._register_pytree_node is deprecated. Please use torch.utils._pytree.register_pytree_node instead.\n",
      "  _torch_pytree._register_pytree_node(\n"
     ]
    }
   ],
   "source": [
    "import os\n",
    "import time\n",
    "import numpy as np\n",
    "import torch\n",
    "import torch.nn as nn\n",
    "import torch.nn.functional as F\n",
    "import matplotlib.pyplot as plt\n",
    "from mpl_toolkits.mplot3d import Axes3D\n",
    "from sklearn.model_selection import train_test_split\n",
    "from sklearn.metrics import accuracy_score, precision_score, recall_score, f1_score, roc_curve, auc, confusion_matrix, ConfusionMatrixDisplay\n",
    "from sklearn.neighbors import NearestNeighbors\n",
    "from torch_geometric.data import Data\n",
    "from torch_geometric.loader import DataLoader\n",
    "from torch_geometric.nn import GCNConv\n",
    "from torch_geometric.explain import Explainer, GNNExplainer\n",
    "from sklearn.model_selection import KFold"
   ]
  },
  {
   "cell_type": "code",
   "execution_count": 2,
   "id": "32d4620c",
   "metadata": {},
   "outputs": [
    {
     "name": "stdout",
     "output_type": "stream",
     "text": [
      "Dati caricati da file numpy.\n"
     ]
    }
   ],
   "source": [
    "# =============================================================================\n",
    "# CARICAMENTO DATI\n",
    "# =============================================================================\n",
    "\n",
    "signal_path = \"data/atlas/signal_clusters.npy\"\n",
    "noise_path = \"data/atlas/noise_clusters.npy\"\n",
    "\n",
    "signal_clusters = np.load(signal_path, allow_pickle=True).tolist()\n",
    "noise_clusters = np.load(noise_path, allow_pickle=True).tolist()\n",
    "print(\"Dati caricati da file numpy.\")\n"
   ]
  },
  {
   "cell_type": "code",
   "execution_count": 3,
   "id": "3bea7920",
   "metadata": {},
   "outputs": [],
   "source": [
    "# =============================================================================\n",
    "# Funzione per estrazione delle feature\n",
    "# =============================================================================\n",
    "\n",
    "def extract_features(c):\n",
    "    total_charge = [np.sum(cluster) for cluster in c[\"charge\"]]\n",
    "    x = c[\"localPosX\"]\n",
    "    mean_time = [np.average(t, weights=q) for t, q in zip(c[\"stripTimes\"], c[\"charge\"])]\n",
    "    n_strips = [len(cluster) for cluster in c[\"charge\"]]\n",
    "    features = np.stack([total_charge, x, mean_time, n_strips], axis=1)\n",
    "\n",
    "    global_x = c[\"globalPosX\"]\n",
    "    global_y = c[\"globalPosY\"]\n",
    "    global_z = c[\"globalPosZ\"]\n",
    "    global_positions = np.stack([global_x, global_y, global_z], axis=1)\n",
    "\n",
    "    return features, global_positions\n"
   ]
  },
  {
   "cell_type": "code",
   "execution_count": 4,
   "id": "fdf2652e",
   "metadata": {},
   "outputs": [
    {
     "name": "stdout",
     "output_type": "stream",
     "text": [
      "Numero di eventi/grafi creati: 20000\n"
     ]
    }
   ],
   "source": [
    "# =============================================================================\n",
    "# CREAZIONE DEI GRAFICI\n",
    "# =============================================================================\n",
    "\n",
    "event_graphs = []\n",
    "k = 4  # numero di vicini per il grafo\n",
    "\n",
    "def create_graphs(clusters, label):\n",
    "    for c in clusters:\n",
    "        features, global_positions = extract_features(c)\n",
    "        if len(features) < 2:\n",
    "            continue\n",
    "        x = torch.tensor(features, dtype=torch.float)\n",
    "        y = torch.tensor(np.full(features.shape[0], label), dtype=torch.long)\n",
    "        pos = torch.tensor(global_positions, dtype=torch.float)\n",
    "        coords = global_positions\n",
    "        N = x.shape[0]\n",
    "        nbrs = NearestNeighbors(n_neighbors=min(k+1, N), algorithm='ball_tree').fit(coords)\n",
    "        _, indices = nbrs.kneighbors(coords)\n",
    "        edge_index = []\n",
    "        for idx, neighbors in enumerate(indices):\n",
    "            for n in neighbors[1:]:\n",
    "                edge_index.append([idx, n])\n",
    "        edge_index = torch.tensor(edge_index, dtype=torch.long).t().contiguous()\n",
    "        event_graphs.append(Data(x=x, edge_index=edge_index, y=y, pos=pos))\n",
    "\n",
    "create_graphs(signal_clusters, label=1)\n",
    "create_graphs(noise_clusters, label=0)\n",
    "\n",
    "print(f\"Numero di eventi/grafi creati: {len(event_graphs)}\")\n"
   ]
  },
  {
   "cell_type": "code",
   "execution_count": 5,
   "id": "211bc9de",
   "metadata": {},
   "outputs": [
    {
     "name": "stdout",
     "output_type": "stream",
     "text": [
      "Train set: 12000 eventi, Validation set: 4000 eventi, Test set: 4000 eventi\n"
     ]
    }
   ],
   "source": [
    "\n",
    "# === Divisione train/val/test ===\n",
    "train_graphs, temp_graphs = train_test_split(event_graphs, test_size=0.4, random_state=42)\n",
    "val_graphs, test_graphs = train_test_split(temp_graphs, test_size=0.5, random_state=42)\n",
    "print(f\"Train set: {len(train_graphs)} eventi, Validation set: {len(val_graphs)} eventi, Test set: {len(test_graphs)} eventi\")\n"
   ]
  },
  {
   "cell_type": "code",
   "execution_count": 6,
   "id": "d39c2f1a",
   "metadata": {},
   "outputs": [],
   "source": [
    "\n",
    "# === Normalizzazione delle feature ===\n",
    "all_train_features = np.concatenate([data.x.numpy() for data in train_graphs], axis=0)\n",
    "mean = all_train_features.mean(axis=0)\n",
    "std = all_train_features.std(axis=0)\n",
    "\n",
    "def normalize_features(features, mean, std):\n",
    "    return (features - mean) / std\n",
    "\n",
    "for dataset in [train_graphs, val_graphs, test_graphs]:\n",
    "    for data in dataset:\n",
    "        data.x = torch.tensor(normalize_features(data.x.numpy(), mean, std), dtype=torch.float)\n"
   ]
  },
  {
   "cell_type": "code",
   "execution_count": 7,
   "id": "08845aa4",
   "metadata": {},
   "outputs": [],
   "source": [
    "\n",
    "# =============================================================================\n",
    "# DEFINIZIONE MODELLO GNN\n",
    "# =============================================================================\n",
    "\n",
    "class GNN(nn.Module):\n",
    "    def __init__(self, in_channels=4, hidden_channels=64, out_channels=1, num_layers=3, dropout=0.2):\n",
    "        super().__init__()\n",
    "        self.pre_mlp = nn.Sequential(\n",
    "            nn.Linear(in_channels, hidden_channels),\n",
    "            nn.ReLU(),\n",
    "            nn.Linear(hidden_channels, hidden_channels),\n",
    "            nn.ReLU()\n",
    "        )\n",
    "        self.convs = nn.ModuleList([GCNConv(hidden_channels, hidden_channels) for _ in range(num_layers)])\n",
    "        self.dropout = nn.Dropout(dropout)\n",
    "        self.post_mlp = nn.Sequential(\n",
    "            nn.Linear(hidden_channels, hidden_channels),\n",
    "            nn.ReLU(),\n",
    "            nn.Linear(hidden_channels, out_channels)\n",
    "        )\n",
    "\n",
    "    def forward(self, data):\n",
    "        x, edge_index = data.x, data.edge_index\n",
    "        x = self.pre_mlp(x)\n",
    "        for conv in self.convs:\n",
    "            x_res = x\n",
    "            x = F.relu(conv(x, edge_index))\n",
    "            x = self.dropout(x)\n",
    "            x = x + x_res \n",
    "        x = self.post_mlp(x)\n",
    "        return x.view(-1)\n"
   ]
  },
  {
   "cell_type": "code",
   "execution_count": 8,
   "id": "7361019a",
   "metadata": {},
   "outputs": [
    {
     "name": "stdout",
     "output_type": "stream",
     "text": [
      "Using device: cuda\n"
     ]
    }
   ],
   "source": [
    "# =============================================================================\n",
    "# INIZIALIZZAZIONE E LOSS\n",
    "# =============================================================================\n",
    "\n",
    "device = torch.device(\"cuda\" if torch.cuda.is_available() else \"cpu\")\n",
    "print(f\"Using device: {device}\")\n",
    "\n",
    "model = GNN(in_channels=4, hidden_channels=32, out_channels=1, num_layers=4, dropout=0.5).to(device)\n",
    "optimizer = torch.optim.Adam(model.parameters(), lr=1e-3, weight_decay=1e-5)\n",
    "loss_fn = nn.BCEWithLogitsLoss()\n",
    "\n",
    "train_loader = DataLoader(train_graphs, batch_size=16, shuffle=True)\n",
    "val_loader = DataLoader(val_graphs, batch_size=16)\n",
    "test_loader = DataLoader(test_graphs, batch_size=16)"
   ]
  },
  {
   "cell_type": "code",
   "execution_count": 9,
   "id": "18bc0a5a",
   "metadata": {},
   "outputs": [
    {
     "name": "stdout",
     "output_type": "stream",
     "text": [
      "Nessun checkpoint caricato.\n"
     ]
    }
   ],
   "source": [
    "# =============================================================================\n",
    "# SALVATAGGIO E CARICAMENTO MODELLO\n",
    "# =============================================================================\n",
    "\n",
    "def save_checkpoint(model, optimizer, epoch, path):\n",
    "    os.makedirs(os.path.dirname(path), exist_ok=True)\n",
    "    torch.save({\n",
    "        'epoch': epoch,\n",
    "        'model_state_dict': model.state_dict(),\n",
    "        'optimizer_state_dict': optimizer.state_dict()\n",
    "    }, path)\n",
    "\n",
    "def save_model(model, path):\n",
    "    os.makedirs(os.path.dirname(path), exist_ok=True)\n",
    "    torch.save(model.state_dict(), path)\n",
    "    print(f\"Modello finale salvato in {path}\")\n",
    "\n",
    "def load_model(model, optimizer, checkpoint_path, load_checkpoint=True):\n",
    "    if load_checkpoint and os.path.exists(checkpoint_path):\n",
    "        checkpoint = torch.load(checkpoint_path, map_location=device)\n",
    "        model.load_state_dict(checkpoint['model_state_dict'])\n",
    "        if optimizer and 'optimizer_state_dict' in checkpoint:\n",
    "            optimizer.load_state_dict(checkpoint['optimizer_state_dict'])\n",
    "        start_epoch = checkpoint.get('epoch', 0) + 1\n",
    "        print(f\"Checkpoint caricato da {checkpoint_path}, riprendo da epoch {start_epoch}\")\n",
    "    else:\n",
    "        print(\"Nessun checkpoint caricato.\")\n",
    "        start_epoch = 0\n",
    "    return model, optimizer, start_epoch\n",
    "\n",
    "checkpoint_path = \"gnn_model/atlas/checkpoint.pt\"\n",
    "model_path = \"gnn_model/atlas/model.pt\"\n",
    "model, optimizer, start_epoch = load_model(model, optimizer, checkpoint_path, load_checkpoint=True)\n"
   ]
  },
  {
   "cell_type": "code",
   "execution_count": 10,
   "id": "60ec89cf",
   "metadata": {},
   "outputs": [
    {
     "name": "stdout",
     "output_type": "stream",
     "text": [
      "Epoch 1/20 - Train loss: 0.1392 - Validation loss: 0.0823 - Time: 5.33s\n",
      "Epoch 2/20 - Train loss: 0.0819 - Validation loss: 0.0761 - Time: 4.28s\n",
      "Epoch 3/20 - Train loss: 0.0779 - Validation loss: 0.0770 - Time: 4.28s\n",
      "Epoch 4/20 - Train loss: 0.0731 - Validation loss: 0.0725 - Time: 4.28s\n",
      "Epoch 5/20 - Train loss: 0.0708 - Validation loss: 0.0713 - Time: 4.28s\n",
      "Epoch 6/20 - Train loss: 0.0686 - Validation loss: 0.0713 - Time: 4.28s\n",
      "Epoch 7/20 - Train loss: 0.0686 - Validation loss: 0.0762 - Time: 4.28s\n",
      "Epoch 8/20 - Train loss: 0.0668 - Validation loss: 0.0782 - Time: 4.27s\n",
      "Epoch 9/20 - Train loss: 0.0670 - Validation loss: 0.0762 - Time: 4.28s\n",
      "Epoch 10/20 - Train loss: 0.0658 - Validation loss: 0.0712 - Time: 4.28s\n",
      "Epoch 11/20 - Train loss: 0.0630 - Validation loss: 0.0657 - Time: 4.27s\n",
      "Epoch 12/20 - Train loss: 0.0641 - Validation loss: 0.0669 - Time: 4.28s\n",
      "Epoch 13/20 - Train loss: 0.0618 - Validation loss: 0.0639 - Time: 4.28s\n",
      "Epoch 14/20 - Train loss: 0.0613 - Validation loss: 0.0651 - Time: 4.28s\n",
      "Epoch 15/20 - Train loss: 0.0613 - Validation loss: 0.0609 - Time: 4.31s\n",
      "Epoch 16/20 - Train loss: 0.0610 - Validation loss: 0.0631 - Time: 4.27s\n",
      "Epoch 17/20 - Train loss: 0.0607 - Validation loss: 0.0647 - Time: 4.43s\n",
      "Epoch 18/20 - Train loss: 0.0604 - Validation loss: 0.0615 - Time: 4.32s\n",
      "Epoch 19/20 - Train loss: 0.0578 - Validation loss: 0.0610 - Time: 4.28s\n",
      "Epoch 20/20 - Train loss: 0.0573 - Validation loss: 0.0659 - Time: 4.27s\n",
      "Training completo.\n",
      "Modello finale salvato in gnn_model/atlas/model.pt\n"
     ]
    }
   ],
   "source": [
    "# =============================================================================\n",
    "# TRAINING\n",
    "# =============================================================================\n",
    "\n",
    "epochs = 20\n",
    "for epoch in range(start_epoch, epochs):\n",
    "    start_time = time.time()\n",
    "    model.train()\n",
    "    total_loss = 0\n",
    "    for data in train_loader:\n",
    "        data = data.to(device)\n",
    "        optimizer.zero_grad()\n",
    "        out = model(data)\n",
    "        target = data.y.float().to(device)\n",
    "        loss = loss_fn(out, target)\n",
    "        loss.backward()\n",
    "        optimizer.step()\n",
    "        total_loss += loss.item() * data.num_graphs\n",
    "    avg_train_loss = total_loss / len(train_loader.dataset)\n",
    "\n",
    "    model.eval()\n",
    "    val_loss = 0\n",
    "    with torch.no_grad():\n",
    "        for data in val_loader:\n",
    "            data = data.to(device)\n",
    "            out = model(data)\n",
    "            target = data.y.float().to(device)\n",
    "            loss = loss_fn(out, target)\n",
    "            val_loss += loss.item() * data.num_graphs\n",
    "    avg_val_loss = val_loss / len(val_loader.dataset)\n",
    "    elapsed = time.time() - start_time\n",
    "\n",
    "    print(f\"Epoch {epoch+1}/{epochs} - Train loss: {avg_train_loss:.4f} - Validation loss: {avg_val_loss:.4f} - Time: {elapsed:.2f}s\")\n",
    "    save_checkpoint(model, optimizer, epoch, checkpoint_path)\n",
    "\n",
    "print(\"Training completo.\")\n",
    "save_model(model, model_path)"
   ]
  },
  {
   "cell_type": "code",
   "execution_count": 11,
   "id": "5823eb98",
   "metadata": {},
   "outputs": [
    {
     "name": "stdout",
     "output_type": "stream",
     "text": [
      "ACC: 0.9810 ± 0.0005 (95% CI: 0.9801 - 0.9819)\n",
      "PREC: 0.9108 ± 0.0023 (95% CI: 0.9059 - 0.9151)\n",
      "REC: 0.9764 ± 0.0013 (95% CI: 0.9738 - 0.9789)\n",
      "F1: 0.9424 ± 0.0014 (95% CI: 0.9395 - 0.9452)\n"
     ]
    }
   ],
   "source": [
    "# =============================================================================\n",
    "# Bootstrap per la valutazione del modello\n",
    "# =============================================================================\n",
    "\n",
    "def get_all_preds_labels(model, loader, device):\n",
    "    model.eval()\n",
    "    all_probs = []\n",
    "    all_labels = []\n",
    "    with torch.no_grad():\n",
    "        for data in loader:\n",
    "            data = data.to(device)\n",
    "            out = torch.sigmoid(model(data))\n",
    "            all_probs.append(out.cpu().numpy())\n",
    "            all_labels.append(data.y.cpu().numpy())\n",
    "    all_probs = np.concatenate(all_probs)\n",
    "    all_labels = np.concatenate(all_labels)\n",
    "    return all_probs, all_labels\n",
    "\n",
    "def bootstrap_metrics(y_true, y_prob, n_bootstrap=1000, threshold=0.5, random_state=42):\n",
    "    rng = np.random.RandomState(random_state)\n",
    "    n = len(y_true)\n",
    "    accs, precs, recs, f1s = [], [], [], []\n",
    "    for _ in range(n_bootstrap):\n",
    "        idx = rng.choice(n, n, replace=True)\n",
    "        y_true_bs = y_true[idx]\n",
    "        y_prob_bs = y_prob[idx]\n",
    "        y_pred_bs = (y_prob_bs > threshold).astype(int)\n",
    "        accs.append(accuracy_score(y_true_bs, y_pred_bs))\n",
    "        precs.append(precision_score(y_true_bs, y_pred_bs, zero_division=0))\n",
    "        recs.append(recall_score(y_true_bs, y_pred_bs, zero_division=0))\n",
    "        f1s.append(f1_score(y_true_bs, y_pred_bs, zero_division=0))\n",
    "    return {\n",
    "        'acc': np.array(accs),\n",
    "        'prec': np.array(precs),\n",
    "        'rec': np.array(recs),\n",
    "        'f1': np.array(f1s)\n",
    "    }\n",
    "\n",
    "# Ottieni tutte le probabilità e label del test set\n",
    "all_probs, all_labels = get_all_preds_labels(model, test_loader, device)\n",
    "\n",
    "# Bootstrap\n",
    "results = bootstrap_metrics(all_labels, all_probs, n_bootstrap=1000)\n",
    "\n",
    "# Calcola media e intervallo di confidenza al 95%\n",
    "for metric in ['acc', 'prec', 'rec', 'f1']:\n",
    "    mean = np.mean(results[metric])\n",
    "    std = np.std(results[metric])\n",
    "    ci_low = np.percentile(results[metric], 2.5)\n",
    "    ci_high = np.percentile(results[metric], 97.5)\n",
    "    print(f\"{metric.upper()}: {mean:.4f} ± {std:.4f} (95% CI: {ci_low:.4f} - {ci_high:.4f})\")"
   ]
  },
  {
   "cell_type": "code",
   "execution_count": 12,
   "id": "2b5a6cb7",
   "metadata": {},
   "outputs": [
    {
     "data": {
      "image/png": "[encoded data removed]",
      "text/plain": [
       "<Figure size 640x480 with 2 Axes>"
      ]
     },
     "metadata": {},
     "output_type": "display_data"
    }
   ],
   "source": [
    "# =============================================================================\n",
    "#  Confusion Matrix \n",
    "# =============================================================================\n",
    "\n",
    "# Ottieni predizioni e label su tutto il test set\n",
    "all_preds = []\n",
    "all_labels = []\n",
    "with torch.no_grad():\n",
    "    for data in test_loader:\n",
    "        data = data.to(device)\n",
    "        out = torch.sigmoid(model(data))\n",
    "        preds = (out > 0.5).long().cpu().numpy()\n",
    "        labels = data.y.cpu().numpy()\n",
    "        all_preds.append(preds)\n",
    "        all_labels.append(labels)\n",
    "all_preds = np.concatenate(all_preds)\n",
    "all_labels = np.concatenate(all_labels)\n",
    "\n",
    "cm = confusion_matrix(all_labels, all_preds)\n",
    "disp = ConfusionMatrixDisplay(confusion_matrix=cm)\n",
    "disp.plot()\n",
    "plt.title(\"Confusion Matrix - Test set\")\n",
    "plt.show()"
   ]
  },
  {
   "cell_type": "code",
   "execution_count": 13,
   "id": "29ba1bc8",
   "metadata": {},
   "outputs": [
    {
     "data": {
      "image/png": "[encoded data removed]",
      "text/plain": [
       "<Figure size 640x480 with 1 Axes>"
      ]
     },
     "metadata": {},
     "output_type": "display_data"
    }
   ],
   "source": [
    "# =============================================================================\n",
    "#  ROC Curve e AUC \n",
    "# =============================================================================\n",
    "\n",
    "all_probs = []\n",
    "with torch.no_grad():\n",
    "    for data in test_loader:\n",
    "        data = data.to(device)\n",
    "        out = torch.sigmoid(model(data))\n",
    "        all_probs.append(out.cpu().numpy())\n",
    "all_probs = np.concatenate(all_probs)\n",
    "\n",
    "fpr, tpr, _ = roc_curve(all_labels, all_probs)\n",
    "roc_auc = auc(fpr, tpr)\n",
    "plt.figure()\n",
    "plt.plot(fpr, tpr, label=f'AUC = {roc_auc:.2f}')\n",
    "plt.plot([0, 1], [0, 1], 'k--')\n",
    "plt.xlabel('False Positive Rate')\n",
    "plt.ylabel('True Positive Rate')\n",
    "plt.title('ROC Curve - Test set')\n",
    "plt.legend()\n",
    "plt.show()"
   ]
  },
  {
   "cell_type": "code",
   "execution_count": 14,
   "id": "e396704f",
   "metadata": {},
   "outputs": [
    {
     "data": {
      "image/png": "[encoded data removed]",
      "text/plain": [
       "<Figure size 800x500 with 1 Axes>"
      ]
     },
     "metadata": {},
     "output_type": "display_data"
    }
   ],
   "source": [
    "# =============================================================================\n",
    "# Istogramma delle probabilità \n",
    "# =============================================================================\n",
    "\n",
    "all_probs = []\n",
    "all_labels = []\n",
    "with torch.no_grad():\n",
    "    for data in test_loader:\n",
    "        data = data.to(device)\n",
    "        out = torch.sigmoid(model(data))\n",
    "        all_probs.append(out.cpu().numpy())\n",
    "        all_labels.append(data.y.cpu().numpy())\n",
    "all_probs = np.concatenate(all_probs)\n",
    "all_labels = np.concatenate(all_labels)\n",
    "\n",
    "plt.figure(figsize=(8,5))\n",
    "bins = 50\n",
    "plt.hist(all_probs[all_labels == 0], bins=bins, alpha=0.7, label='Rumore (y=0)')\n",
    "plt.hist(all_probs[all_labels == 1], bins=bins, alpha=0.7, label='Segnale (y=1)')\n",
    "plt.axvline(0.5, color='k', linestyle='--', label='Soglia 0.5')\n",
    "plt.xlabel('Probabilità predetta')\n",
    "plt.ylabel('Conteggio')\n",
    "plt.title('Distribuzione delle probabilità predette')\n",
    "plt.yscale('log')\n",
    "plt.legend()\n",
    "plt.tight_layout()\n",
    "plt.show()"
   ]
  },
  {
   "cell_type": "code",
   "execution_count": null,
   "id": "5287d3ee",
   "metadata": {},
   "outputs": [
    {
     "name": "stdout",
     "output_type": "stream",
     "text": [
      "Generated explanations in ['edge_mask', 'node_mask']\n"
     ]
    }
   ],
   "source": [
    "# =============================================================================\n",
    "# Explainer\n",
    "# =============================================================================\n",
    "\n",
    "class WrappedModel(nn.Module):\n",
    "    def __init__(self, model):\n",
    "        super().__init__()\n",
    "        self.model = model\n",
    "    def forward(self, x, edge_index):\n",
    "        data = Data(x=x, edge_index=edge_index)\n",
    "        out = self.model(data)\n",
    "        return torch.sigmoid(out)\n",
    "    \n",
    "wrapped_model = WrappedModel(model).to(device)\n",
    "example_data = test_graphs[0].to(device)\n",
    "explainer = Explainer(\n",
    "    model=wrapped_model,\n",
    "    algorithm=GNNExplainer(epochs=200),\n",
    "    explanation_type='model',\n",
    "    node_mask_type='attributes',\n",
    "    edge_mask_type='object',\n",
    "    model_config=dict(\n",
    "        mode='binary_classification',\n",
    "        task_level='node',\n",
    "        return_type='probs',  \n",
    "    ),\n",
    ")\n",
    "node_index = 0\n",
    "explanation = explainer(example_data.x, example_data.edge_index, index=node_index)\n",
    "print(f'Generated explanations in {explanation.available_explanations}')\n",
    "\n",
    "explanation.visualize_feature_importance('feature_importance_ATLAS.png', top_k=4)\n",
    "explanation.visualize_graph('subgraph_ATLAS.pdf')\n",
    "\n",
    "# Riporta il grafo su CPU\n",
    "test_graphs[0] = test_graphs[0].cpu()"
   ]
  },
  {
   "cell_type": "code",
   "execution_count": 16,
   "id": "c2ce9abc",
   "metadata": {},
   "outputs": [
    {
     "name": "stdout",
     "output_type": "stream",
     "text": [
      "Salvati i primi 20 esempi in images/atlas/\n"
     ]
    }
   ],
   "source": [
    "\n",
    "# =============================================================================\n",
    "# VISUALIZZAZIONE RISULTATI SU 20 EVENTI\n",
    "# =============================================================================\n",
    "\n",
    "output_dir = \"images/atlas\"\n",
    "os.makedirs(output_dir, exist_ok=True)\n",
    "\n",
    "for j in range(20):\n",
    "    data_es = test_graphs[j]\n",
    "    x = data_es.x.cpu().numpy()\n",
    "    labels_true = data_es.y.cpu().numpy()\n",
    "    pos = data_es.pos.cpu().numpy()\n",
    "\n",
    "    with torch.no_grad():\n",
    "        out = torch.sigmoid(model(data_es.to(device)))\n",
    "        pred_labels = (out.squeeze() > 0.5).cpu().numpy()\n",
    "\n",
    "    fig = plt.figure(figsize=(10, 8))\n",
    "    ax = fig.add_subplot(111, projection='3d')\n",
    "\n",
    "    ax.scatter(pos[labels_true == 0, 0], pos[labels_true == 0, 1], pos[labels_true == 0, 2],\n",
    "               c='gray', s=40, label='Rumore', alpha=0.7)\n",
    "    ax.scatter(pos[labels_true == 1, 0], pos[labels_true == 1, 1], pos[labels_true == 1, 2],\n",
    "               c='orange', s=60, label='Segnale', alpha=0.8)\n",
    "\n",
    "    for i in range(len(pos)):\n",
    "        if pred_labels[i] == 1:\n",
    "            ax.plot([pos[i, 0]], [pos[i, 1]], [pos[i, 2]], marker='o', markersize=18,\n",
    "                    markerfacecolor='none', markeredgecolor='blue', markeredgewidth=2, alpha=0.7)\n",
    "\n",
    "    margin = 0.05\n",
    "    for idx, set_lim in enumerate([ax.set_xlim, ax.set_ylim, ax.set_zlim]):\n",
    "        data = pos[:, idx]\n",
    "        delta = (data.max() - data.min()) * margin\n",
    "        set_lim(data.min() - delta, data.max() + delta)\n",
    "\n",
    "    ax.set_xlabel('Global X')\n",
    "    ax.set_ylabel('Global Y')\n",
    "    ax.set_zlabel('Global Z')\n",
    "    ax.set_title(f'Evento {j}: arancione=vero segnale, grigio=rumore, blu=predetto segnale')\n",
    "    ax.legend()\n",
    "    plt.tight_layout()\n",
    "    plt.savefig(f\"{output_dir}/event_{j:02d}.png\")\n",
    "    plt.close(fig)\n",
    "\n",
    "    # Riporta il grafo su CPU\n",
    "    test_graphs[j] = test_graphs[j].cpu()\n",
    "\n",
    "print(\"Salvati i primi 20 esempi in images/atlas/\")\n"
   ]
  },
  {
   "cell_type": "code",
   "execution_count": 17,
   "id": "8a3b8c46",
   "metadata": {},
   "outputs": [
    {
     "name": "stdout",
     "output_type": "stream",
     "text": [
      "\n",
      "Fold 1/5\n",
      "  Fold metrics: acc=0.9803, prec=0.9107, rec=0.9702, f1=0.9395\n",
      "\n",
      "Fold 2/5\n",
      "  Fold metrics: acc=0.9799, prec=0.9185, rec=0.9534, f1=0.9357\n",
      "\n",
      "Fold 3/5\n",
      "  Fold metrics: acc=0.9793, prec=0.9157, rec=0.9548, f1=0.9349\n",
      "\n",
      "Fold 4/5\n",
      "  Fold metrics: acc=0.9815, prec=0.9136, rec=0.9689, f1=0.9404\n",
      "\n",
      "Fold 5/5\n",
      "  Fold metrics: acc=0.9815, prec=0.9060, rec=0.9727, f1=0.9381\n",
      "\n",
      "=== K-Fold Results ===\n",
      "Accuracy: 0.9805 ± 0.0009\n",
      "Precision: 0.9129 ± 0.0043\n",
      "Recall: 0.9640 ± 0.0082\n",
      "F1: 0.9377 ± 0.0022\n"
     ]
    }
   ],
   "source": [
    "\n",
    "# =============================================================================\n",
    "# k-fold cross-validation\n",
    "# =============================================================================\n",
    "\n",
    "def train_one_epoch(model, loader, optimizer, loss_fn, device):\n",
    "    model.train()\n",
    "    total_loss = 0\n",
    "    for data in loader:\n",
    "        data = data.to(device)\n",
    "        optimizer.zero_grad()\n",
    "        out = model(data)\n",
    "        target = data.y.float().to(device)\n",
    "        loss = loss_fn(out, target)\n",
    "        loss.backward()\n",
    "        optimizer.step()\n",
    "        total_loss += loss.item() * data.num_graphs\n",
    "    return total_loss / len(loader.dataset)\n",
    "\n",
    "def eval_metrics(model, loader, device):\n",
    "    model.eval()\n",
    "    all_probs, all_labels = [], []\n",
    "    with torch.no_grad():\n",
    "        for data in loader:\n",
    "            data = data.to(device)\n",
    "            out = torch.sigmoid(model(data))\n",
    "            all_probs.append(out.cpu().numpy())\n",
    "            all_labels.append(data.y.cpu().numpy())\n",
    "    all_probs = np.concatenate(all_probs)\n",
    "    all_labels = np.concatenate(all_labels)\n",
    "    preds = (all_probs > 0.5).astype(int)\n",
    "    acc = accuracy_score(all_labels, preds)\n",
    "    prec = precision_score(all_labels, preds, zero_division=0)\n",
    "    rec = recall_score(all_labels, preds, zero_division=0)\n",
    "    f1 = f1_score(all_labels, preds, zero_division=0)\n",
    "    return acc, prec, rec, f1\n",
    "\n",
    "# Imposta parametri\n",
    "k = 5\n",
    "epochs = 10\n",
    "kf = KFold(n_splits=k, shuffle=True, random_state=42)\n",
    "all_graphs = train_graphs + val_graphs + test_graphs  # Usa tutti i dati per il k-fold\n",
    "\n",
    "accs, precs, recs, f1s = [], [], [], []\n",
    "\n",
    "for fold, (train_idx, test_idx) in enumerate(kf.split(all_graphs)):\n",
    "    print(f\"\\nFold {fold+1}/{k}\")\n",
    "    train_subset = [all_graphs[i] for i in train_idx]\n",
    "    test_subset = [all_graphs[i] for i in test_idx]\n",
    "    train_loader = DataLoader(train_subset, batch_size=16, shuffle=True)\n",
    "    test_loader = DataLoader(test_subset, batch_size=16)\n",
    "    \n",
    "    # Nuova istanza del modello per ogni fold\n",
    "    model = GNN(in_channels=4, hidden_channels=32, out_channels=1, num_layers=4, dropout=0.5).to(device)\n",
    "    optimizer = torch.optim.Adam(model.parameters(), lr=1e-3, weight_decay=1e-5)\n",
    "    loss_fn = nn.BCEWithLogitsLoss()\n",
    "    \n",
    "    for epoch in range(epochs):\n",
    "        train_loss = train_one_epoch(model, train_loader, optimizer, loss_fn, device)\n",
    "        #print(f\"  Epoch {epoch+1}/{epochs} - Train loss: {train_loss:.4f}\")\n",
    "    \n",
    "    acc, prec, rec, f1 = eval_metrics(model, test_loader, device)\n",
    "    print(f\"  Fold metrics: acc={acc:.4f}, prec={prec:.4f}, rec={rec:.4f}, f1={f1:.4f}\")\n",
    "    accs.append(acc)\n",
    "    precs.append(prec)\n",
    "    recs.append(rec)\n",
    "    f1s.append(f1)\n",
    "\n",
    "print(\"\\n=== K-Fold Results ===\")\n",
    "print(f\"Accuracy: {np.mean(accs):.4f} ± {np.std(accs):.4f}\")\n",
    "print(f\"Precision: {np.mean(precs):.4f} ± {np.std(precs):.4f}\")\n",
    "print(f\"Recall: {np.mean(recs):.4f} ± {np.std(recs):.4f}\")\n",
    "print(f\"F1: {np.mean(f1s):.4f} ± {np.std(f1s):.4f}\")"
   ]
  }
 ],
 "metadata": {
  "kernelspec": {
   "display_name": "Python (flows)",
   "language": "python",
   "name": "flows"
  },
  "language_info": {
   "codemirror_mode": {
    "name": "ipython",
    "version": 3
   },
   "file_extension": ".py",
   "mimetype": "text/x-python",
   "name": "python",
   "nbconvert_exporter": "python",
   "pygments_lexer": "ipython3",
   "version": "3.11.6"
  }
 },
 "nbformat": 4,
 "nbformat_minor": 5
}
